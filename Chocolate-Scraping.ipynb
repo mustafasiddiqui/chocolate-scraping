{
 "cells": [
  {
   "cell_type": "markdown",
   "metadata": {},
   "source": [
    "# Chocolate Scraping with Beautiful Soup"
   ]
  },
  {
   "cell_type": "markdown",
   "metadata": {},
   "source": [
    "We have a website that has over 1700 reviews of chocolate bars from all around the world, which is found at https://content.codecademy.com/courses/beautifulsoup/cacao/index.html.\n",
    "\n",
    "The data is displayed in a table, instead of in a `csv` or `json`. We can transform this webpage into a DataFrame that we can manipulate and analyze.\n",
    "\n",
    "The rating scale is from 1-5, as described in <a href=\"http://flavorsofcacao.com/review_guide.html\">this review guide</a>. A `1` is \"unpleasant\" chocolate, while a `5` is a bar that transcends \"beyond the ordinary limits\".\n",
    "\n",
    "Some questions we thought about when we found this dataset were:\n",
    " - Where are the best cocao beans grown?\n",
    " - Which countries produce the highest-rated bars?\n",
    " - What's the relationship between cocao solids percentage and rating?"
   ]
  },
  {
   "cell_type": "markdown",
   "metadata": {},
   "source": [
    "## Make Some Chocolate Soup"
   ]
  },
  {
   "cell_type": "markdown",
   "metadata": {},
   "source": [
    "Make a request to this site to get the raw HTML, which we can later turn into a BeautifulSoup object.\n",
    "\n",
    "   The URL is `https://content.codecademy.com/courses/beautifulsoup/cacao/index.html`"
   ]
  },
  {
   "cell_type": "code",
   "execution_count": 1,
   "metadata": {},
   "outputs": [],
   "source": [
    "import requests\n",
    "\n",
    "webpage = requests.get(\"https://content.codecademy.com/courses/beautifulsoup/cacao/index.html\")"
   ]
  },
  {
   "cell_type": "markdown",
   "metadata": {},
   "source": [
    "Create a BeautifulSoup object called `soup` to traverse this HTML,  using `\"html.parser\"` as the parser, and the content of the response from the request as the document."
   ]
  },
  {
   "cell_type": "code",
   "execution_count": 2,
   "metadata": {},
   "outputs": [],
   "source": [
    "from bs4 import BeautifulSoup\n",
    "\n",
    "soup = BeautifulSoup(webpage.content, \"html.parser\")\n",
    "# soup"
   ]
  },
  {
   "cell_type": "code",
   "execution_count": 3,
   "metadata": {},
   "outputs": [],
   "source": [
    "# print(soup)"
   ]
  },
  {
   "cell_type": "markdown",
   "metadata": {},
   "source": [
    "## How are ratings distributed?"
   ]
  },
  {
   "cell_type": "markdown",
   "metadata": {},
   "source": [
    "Let's make a histogram of the ratings.\n",
    "\n",
    "The first thing to do is to put all of the ratings into a list.\n",
    "   \n",
    " Get all of the tags that contain the ratings and store them..."
   ]
  },
  {
   "cell_type": "code",
   "execution_count": 4,
   "metadata": {},
   "outputs": [],
   "source": [
    "rating_tags = soup.find_all(attrs={'class':'Rating'})\n",
    "\n",
    "ratings = []\n",
    "for tag in rating_tags[1:]:\n",
    "    ratings.append(float(tag.get_text()))"
   ]
  },
  {
   "cell_type": "markdown",
   "metadata": {},
   "source": [
    "Using Matplotlib, create a histogram of the ratings values:"
   ]
  },
  {
   "cell_type": "code",
   "execution_count": 5,
   "metadata": {},
   "outputs": [
    {
     "data": {
      "image/png": "[encoded data removed]",
      "text/plain": [
       "<Figure size 640x480 with 1 Axes>"
      ]
     },
     "metadata": {},
     "output_type": "display_data"
    }
   ],
   "source": [
    "import matplotlib.pyplot as plt\n",
    "\n",
    "plt.hist(ratings)\n",
    "plt.show()"
   ]
  },
  {
   "cell_type": "markdown",
   "metadata": {},
   "source": [
    "## Which chocolatier makes the best chocolate?"
   ]
  },
  {
   "cell_type": "markdown",
   "metadata": {},
   "source": [
    "We want to now find the 10 most highly rated chocolatiers. We can make a DataFrame that has the chocolate companies in one column, and the ratings in another. Then, we can do a `groupby` to find the ones with the highest average rating.\n",
    "\n",
    "First, let's find all tags on the webpage that contain the company names:"
   ]
  },
  {
   "cell_type": "code",
   "execution_count": 6,
   "metadata": {},
   "outputs": [],
   "source": [
    "company_tags = soup.find_all(attrs={'class':'Company'})\n",
    "# company_tags\n",
    "companies = []"
   ]
  },
  {
   "cell_type": "markdown",
   "metadata": {},
   "source": [
    "Loop through the tags containing the company names, and add the text from each tag to the list you just created."
   ]
  },
  {
   "cell_type": "code",
   "execution_count": 7,
   "metadata": {},
   "outputs": [],
   "source": [
    "for tag in company_tags[1:]:\n",
    "    companies.append(tag.get_text())"
   ]
  },
  {
   "cell_type": "markdown",
   "metadata": {},
   "source": [
    "12. Create a DataFrame with a column \"Company\" corresponding to your companies list, and a column \"Ratings\" corresponding to your ratings list."
   ]
  },
  {
   "cell_type": "code",
   "execution_count": 8,
   "metadata": {},
   "outputs": [],
   "source": [
    "import pandas as pd\n",
    "\n",
    "cacao_data = pd.DataFrame.from_dict({\"Company\":companies, \"Rating\":ratings})\n",
    "# company_ratings"
   ]
  },
  {
   "cell_type": "markdown",
   "metadata": {},
   "source": [
    "Use `.groupby` to group the DataFrame by Company and take the average of the grouped ratings.\n",
    "\n",
    "Then, use the `.nlargest` command to get the 10 highest rated chocolate companies and print them out.\n",
    "    "
   ]
  },
  {
   "cell_type": "code",
   "execution_count": 9,
   "metadata": {
    "scrolled": true
   },
   "outputs": [
    {
     "name": "stdout",
     "output_type": "stream",
     "text": [
      "                                        Rating\n",
      "Company                                       \n",
      "Tobago Estate (Pralus)                4.000000\n",
      "Heirloom Cacao Preservation (Zokoko)  3.875000\n",
      "Ocelot                                3.875000\n",
      "Amedei                                3.846154\n",
      "Matale                                3.812500\n",
      "Patric                                3.791667\n",
      "Idilio (Felchlin)                     3.775000\n",
      "Acalli                                3.750000\n",
      "Chocola'te                            3.750000\n",
      "Christopher Morel (Felchlin)          3.750000\n"
     ]
    }
   ],
   "source": [
    "avg_ratings = cacao_data.groupby('Company').mean()\n",
    "top_ratings = avg_ratings.nlargest(10, columns=['Rating'])\n",
    "print(top_ratings)"
   ]
  },
  {
   "cell_type": "markdown",
   "metadata": {},
   "source": [
    "## Is more cacao better?"
   ]
  },
  {
   "cell_type": "markdown",
   "metadata": {},
   "source": [
    "Let's see if the chocolate experts tend to rate chocolate bars with higher levels of cacoa to be better than those with lower levels of cacoa.\n",
    "\n",
    "Using the same methods as above, we create a list that contains all of the cocoa percentages and store each percent as a float, after stripping off the `%` character."
   ]
  },
  {
   "cell_type": "code",
   "execution_count": 10,
   "metadata": {},
   "outputs": [],
   "source": [
    "cocoa_tags = soup.find_all(attrs={'class':'CocoaPercent'})\n",
    "# cocoa_tags"
   ]
  },
  {
   "cell_type": "markdown",
   "metadata": {},
   "source": [
    "Add the cocoa percentages as a column called `\"CocoaPercentage\"` in the DataFrame that has companies and ratings in it."
   ]
  },
  {
   "cell_type": "code",
   "execution_count": 11,
   "metadata": {},
   "outputs": [],
   "source": [
    "cocoaPercentages = []\n",
    "for tag in cocoa_tags[1:]:\n",
    "    percentage = float(tag.get_text()[:-1])\n",
    "    cocoaPercentages.append(percentage)\n",
    "    \n",
    "cacao_data[\"CocoaPercentage\"] = cocoaPercentages\n",
    "# cacao_data.dtypes"
   ]
  },
  {
   "cell_type": "markdown",
   "metadata": {},
   "source": [
    "Make a scatterplot of ratings (`your_df.Rating`) vs percentage of cocoa (`your_df.CocoaPercentage`)."
   ]
  },
  {
   "cell_type": "code",
   "execution_count": 12,
   "metadata": {},
   "outputs": [
    {
     "data": {
      "image/png": "[encoded data removed]",
      "text/plain": [
       "<Figure size 640x480 with 1 Axes>"
      ]
     },
     "metadata": {},
     "output_type": "display_data"
    },
    {
     "data": {
      "text/plain": [
       "<Figure size 640x480 with 0 Axes>"
      ]
     },
     "metadata": {},
     "output_type": "display_data"
    }
   ],
   "source": [
    "plt.scatter(cacao_data.CocoaPercentage, cacao_data.Rating)\n",
    "plt.show()\n",
    "plt.clf()"
   ]
  },
  {
   "cell_type": "markdown",
   "metadata": {},
   "source": [
    "We can use some numpy commands to draw a line of best-fit over the scatterplot."
   ]
  },
  {
   "cell_type": "code",
   "execution_count": 13,
   "metadata": {},
   "outputs": [
    {
     "data": {
      "image/png": "[encoded data removed]",
      "text/plain": [
       "<Figure size 640x480 with 1 Axes>"
      ]
     },
     "metadata": {},
     "output_type": "display_data"
    },
    {
     "data": {
      "text/plain": [
       "<Figure size 640x480 with 0 Axes>"
      ]
     },
     "metadata": {},
     "output_type": "display_data"
    }
   ],
   "source": [
    "import numpy as np\n",
    "\n",
    "plt.scatter(cacao_data.CocoaPercentage, cacao_data.Rating)\n",
    "z = np.polyfit(cacao_data.CocoaPercentage, cacao_data.Rating, 1)\n",
    "line_function = np.poly1d(z)\n",
    "plt.plot(cacao_data.CocoaPercentage, line_function(cacao_data.CocoaPercentage), \"r-\")\n",
    "plt.title('Rating vs. Cocoa Percentage')\n",
    "plt.show()\n",
    "plt.clf()"
   ]
  },
  {
   "cell_type": "markdown",
   "metadata": {},
   "source": [
    "## Other questions to explore"
   ]
  },
  {
   "cell_type": "markdown",
   "metadata": {},
   "source": [
    "Where are the best cocoa beans grown?"
   ]
  },
  {
   "cell_type": "code",
   "execution_count": 14,
   "metadata": {},
   "outputs": [
    {
     "name": "stdout",
     "output_type": "stream",
     "text": [
      "                              CocoaPercentage\n",
      "Origin                                       \n",
      "Peru, Ecuador                       99.000000\n",
      "Guat., D.R., Peru, Mad., PNG        88.000000\n",
      "Samoa                               85.000000\n",
      "Venezuela/ Ghana                    85.000000\n",
      "Sao Tome & Principe                 79.357143\n",
      "Central and S. America              78.000000\n",
      "Principe                            77.000000\n",
      "Carribean                           76.250000\n",
      "El Salvador                         75.000000\n",
      "Gabon                               75.000000\n"
     ]
    }
   ],
   "source": [
    "origin_tags = soup.find_all(attrs={'class':'BroadBeanOrigin'})\n",
    "origins = []\n",
    "for tag in origin_tags[1:]:\n",
    "    origins.append(tag.get_text())\n",
    "\n",
    "bean_df = pd.DataFrame.from_dict({\"Origin\":origins, \"CocoaPercentage\":cocoaPercentages})\n",
    "bean_df.head()\n",
    "\n",
    "cocoa_percentages = bean_df.groupby(['Origin']).mean()\n",
    "top_cocoa = cocoa_percentages.nlargest(10, columns=['CocoaPercentage'])\n",
    "print(top_cocoa)\n"
   ]
  },
  {
   "cell_type": "markdown",
   "metadata": {},
   "source": [
    "Which countries produce the highest-rated bars?"
   ]
  },
  {
   "cell_type": "code",
   "execution_count": 15,
   "metadata": {},
   "outputs": [
    {
     "name": "stdout",
     "output_type": "stream",
     "text": [
      "               Rating\n",
      "Location             \n",
      "Chile        3.750000\n",
      "Amsterdam    3.500000\n",
      "Netherlands  3.500000\n",
      "Philippines  3.500000\n",
      "Iceland      3.416667\n",
      "Vietnam      3.409091\n",
      "Brazil       3.397059\n",
      "Poland       3.375000\n",
      "Australia    3.357143\n",
      "Guatemala    3.350000\n"
     ]
    }
   ],
   "source": [
    "location_tags = soup.find_all(attrs={'class':'CompanyLocation'})\n",
    "locations = []\n",
    "for tag in location_tags[1:]:\n",
    "    locations.append(tag.get_text())\n",
    "\n",
    "location_df = pd.DataFrame.from_dict({\"Location\":locations, \"Rating\":ratings})\n",
    "location_df.head()\n",
    "\n",
    "avg_location_ratings = location_df.groupby(['Location']).mean()\n",
    "print(avg_location_ratings.nlargest(10, columns=['Rating']))"
   ]
  }
 ],
 "metadata": {
  "kernelspec": {
   "display_name": "Python 3 (ipykernel)",
   "language": "python",
   "name": "python3"
  },
  "language_info": {
   "codemirror_mode": {
    "name": "ipython",
    "version": 3
   },
   "file_extension": ".py",
   "mimetype": "text/x-python",
   "name": "python",
   "nbconvert_exporter": "python",
   "pygments_lexer": "ipython3",
   "version": "3.9.13"
  }
 },
 "nbformat": 4,
 "nbformat_minor": 2
}
